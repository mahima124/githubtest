{
  "cells": [
    {
      "cell_type": "markdown",
      "metadata": {
        "id": "view-in-github",
        "colab_type": "text"
      },
      "source": [
        "<a href=\"https://colab.research.google.com/github/mahima124/githubtest/blob/main/PIC_modified_hot_electrons.ipynb\" target=\"_parent\"><img src=\"https://colab.research.google.com/assets/colab-badge.svg\" alt=\"Open In Colab\"/></a>"
      ]
    },
    {
      "cell_type": "code",
      "execution_count": null,
      "metadata": {
        "colab": {
          "base_uri": "https://localhost:8080/",
          "height": 297
        },
        "id": "tfbA8DgpQ3IK",
        "outputId": "e5230347-3ad1-4e90-d8ec-1f242371f8e1"
      },
      "outputs": [
        {
          "output_type": "error",
          "ename": "ValueError",
          "evalue": "operands could not be broadcast together with shapes (8000,1) (20000,1) (8000,1) ",
          "traceback": [
            "\u001b[0;31m---------------------------------------------------------------------------\u001b[0m",
            "\u001b[0;31mValueError\u001b[0m                                Traceback (most recent call last)",
            "\u001b[0;32m<ipython-input-5-0a46631c797d>\u001b[0m in \u001b[0;36m<cell line: 114>\u001b[0;34m()\u001b[0m\n\u001b[1;32m    113\u001b[0m \u001b[0;34m\u001b[0m\u001b[0m\n\u001b[1;32m    114\u001b[0m \u001b[0;32mif\u001b[0m \u001b[0m__name__\u001b[0m \u001b[0;34m==\u001b[0m \u001b[0;34m\"__main__\"\u001b[0m\u001b[0;34m:\u001b[0m\u001b[0;34m\u001b[0m\u001b[0;34m\u001b[0m\u001b[0m\n\u001b[0;32m--> 115\u001b[0;31m     \u001b[0mmain\u001b[0m\u001b[0;34m(\u001b[0m\u001b[0;34m)\u001b[0m\u001b[0;34m\u001b[0m\u001b[0;34m\u001b[0m\u001b[0m\n\u001b[0m",
            "\u001b[0;32m<ipython-input-5-0a46631c797d>\u001b[0m in \u001b[0;36mmain\u001b[0;34m()\u001b[0m\n\u001b[1;32m     52\u001b[0m     \u001b[0;31m#vel1=vb1\u001b[0m\u001b[0;34m\u001b[0m\u001b[0;34m\u001b[0m\u001b[0m\n\u001b[1;32m     53\u001b[0m     \u001b[0mvel\u001b[0m\u001b[0;34m[\u001b[0m\u001b[0mNh\u001b[0m\u001b[0;34m:\u001b[0m\u001b[0;34m]\u001b[0m\u001b[0;34m=\u001b[0m\u001b[0;36m0\u001b[0m\u001b[0;34m\u001b[0m\u001b[0;34m\u001b[0m\u001b[0m\n\u001b[0;32m---> 54\u001b[0;31m     \u001b[0mvel\u001b[0m\u001b[0;34m[\u001b[0m\u001b[0mNh\u001b[0m\u001b[0;34m:\u001b[0m\u001b[0;34m]\u001b[0m \u001b[0;34m+=\u001b[0m \u001b[0mA\u001b[0m \u001b[0;34m*\u001b[0m \u001b[0mnp\u001b[0m\u001b[0;34m.\u001b[0m\u001b[0msin\u001b[0m\u001b[0;34m(\u001b[0m\u001b[0;36m2\u001b[0m \u001b[0;34m*\u001b[0m \u001b[0mnp\u001b[0m\u001b[0;34m.\u001b[0m\u001b[0mpi\u001b[0m \u001b[0;34m*\u001b[0m \u001b[0mpos\u001b[0m\u001b[0;34m[\u001b[0m\u001b[0mNh\u001b[0m\u001b[0;34m:\u001b[0m\u001b[0;34m]\u001b[0m \u001b[0;34m/\u001b[0m \u001b[0mboxsize\u001b[0m\u001b[0;34m)\u001b[0m\u001b[0;34m\u001b[0m\u001b[0;34m\u001b[0m\u001b[0m\n\u001b[0m\u001b[1;32m     55\u001b[0m     \u001b[0;31m#vel1[N1:]=0\u001b[0m\u001b[0;34m\u001b[0m\u001b[0;34m\u001b[0m\u001b[0m\n\u001b[1;32m     56\u001b[0m     \u001b[0;31m#vel1[N1:] += A * np.sin(2 * np.pi * pos[N1:] / boxsize)\u001b[0m\u001b[0;34m\u001b[0m\u001b[0;34m\u001b[0m\u001b[0m\n",
            "\u001b[0;31mValueError\u001b[0m: operands could not be broadcast together with shapes (8000,1) (20000,1) (8000,1) "
          ]
        }
      ],
      "source": [
        "\n",
        "\n",
        "import numpy as np\n",
        "import matplotlib.pyplot as plt\n",
        "import scipy.sparse as sp\n",
        "from scipy.sparse.linalg import spsolve\n",
        "\n",
        "def getAcc(pos, Nx, boxsize, n0, Gmtx, Lmtx):\n",
        "    Nh_hot = pos.shape[0]\n",
        "    #Nh_hot=pos.shape[0]\n",
        "    dx = boxsize / Nx\n",
        "    j = np.floor(pos / dx).astype(int)\n",
        "    jp1 = j + 1\n",
        "    weight_j = (jp1 * dx - pos) / dx\n",
        "    weight_jp1 = (pos - j * dx) / dx\n",
        "    jp1 = np.mod(jp1, Nx)\n",
        "    n = np.bincount(j[:, 0], weights=weight_j[:, 0], minlength=Nx)\n",
        "    n += np.bincount(jp1[:, 0], weights=weight_jp1[:, 0], minlength=Nx)\n",
        "    n *= n0 * boxsize / N / dx\n",
        "\n",
        "    phi_grid = spsolve(Lmtx, n - n0, permc_spec=\"MMD_AT_PLUS_A\")\n",
        "    E_grid = -Gmtx @ phi_grid\n",
        "    E = weight_j * E_grid[j] + weight_jp1 * E_grid[jp1]\n",
        "    #print(\"electric field\",E)\n",
        "    a = -E\n",
        "\n",
        "    return a\n",
        "\n",
        "def main():\n",
        "    N = 40000\n",
        "    Nx = 400\n",
        "    t = 0\n",
        "    tEnd = 500\n",
        "    dt = 1\n",
        "    boxsize = 50\n",
        "    n0 = 1\n",
        "    vb = 3.5\n",
        "    vth = 1\n",
        "    A = 0.1\n",
        "    hot_electron_percentage = 20\n",
        "\n",
        "    plotRealTime = True\n",
        "\n",
        "    np.random.seed(42)\n",
        "    pos = np.random.rand(N, 1) * boxsize\n",
        "    Nh_hot = int(N * hot_electron_percentage / 100)+int(N/2)\n",
        "    Nh=int(N/2)\n",
        "    #N1=int(N/2)\n",
        "\n",
        "    # Add perturbation for thermal electrons\n",
        "    thermal_velocity = vth * np.random.randn(Nh_hot, 1)\n",
        "    vb1=vb\n",
        "    vel =  thermal_velocity+vb1\n",
        "    #vel1=vb1\n",
        "    vel[Nh:]=0\n",
        "    vel[Nh:] += A * np.sin(2 * np.pi * pos[Nh:] / boxsize)\n",
        "    #vel1[N1:]=0\n",
        "    #vel1[N1:] += A * np.sin(2 * np.pi * pos[N1:] / boxsize)\n",
        "\n",
        "\n",
        "\n",
        "    dx = boxsize / Nx\n",
        "    e = np.ones(Nx)\n",
        "    diags = np.array([-1, 1])\n",
        "    vals = np.vstack((-e, e))\n",
        "    Gmtx = sp.spdiags(vals, diags, Nx, Nx)\n",
        "    Gmtx = sp.lil_matrix(Gmtx)\n",
        "    Gmtx[0, Nx - 1] = -1\n",
        "    Gmtx[Nx - 1, 0] = 1\n",
        "    Gmtx /= (2 * dx)\n",
        "    Gmtx = sp.csr_matrix(Gmtx)\n",
        "\n",
        "    diags = np.array([-1, 0, 1])\n",
        "    vals = np.vstack((e, -2 * e, e))\n",
        "    Lmtx = sp.spdiags(vals, diags, Nx, Nx)\n",
        "    Lmtx = sp.lil_matrix(Lmtx)\n",
        "    Lmtx[0, Nx - 1] = 1\n",
        "    Lmtx[Nx - 1, 0] = 1\n",
        "    Lmtx /= dx**2\n",
        "    Lmtx = sp.csr_matrix(Lmtx)\n",
        "\n",
        "    acc = getAcc(pos, Nx, boxsize, n0, Gmtx, Lmtx)\n",
        "    Nt = int(np.ceil(tEnd / dt))\n",
        "\n",
        "    fig = plt.figure(figsize=(6, 6), dpi=120)\n",
        "\n",
        "    for i in range(Nt):\n",
        "        vel += acc * dt / 2.0\n",
        "        pos += vel * dt\n",
        "        pos = np.mod(pos, boxsize)\n",
        "        acc = getAcc(pos, Nx, boxsize, n0, Gmtx, Lmtx)\n",
        "        vel += acc * dt / 2.0\n",
        "        t += dt\n",
        "\n",
        "        if plotRealTime or (i == Nt - 1):\n",
        "            plt.cla()\n",
        "            plt.scatter(pos[:Nh], vel[:Nh], s=0.4, color='red', alpha=0.5)\n",
        "            #plt.scatter(pos[:N1], vel[:N1], s=0.4, color='yellow', alpha=0.5)\n",
        "            plt.scatter(pos[Nh:], vel[Nh:], s=0.4, color='green', alpha=0.5)\n",
        "\n",
        "            #plt.scatter(pos[N1:], vel1[N1:], s=0.4, color='blue', alpha=0.5)\n",
        "\n",
        "            plt.axis([0, boxsize, -6, 6])\n",
        "\n",
        "            plt.pause(0.001)\n",
        "\n",
        "    plt.xticks(fontweight='bold', fontsize=20)\n",
        "    plt.yticks(fontweight='bold', fontsize=20)\n",
        "    plt.xlabel('x', fontweight='bold', fontsize=25)\n",
        "    plt.ylabel('v', fontweight='bold', fontsize=25)\n",
        "    plt.savefig('pic.png', dpi=240)\n",
        "    plt.show()\n",
        "\n",
        "    return 0\n",
        "\n",
        "if __name__ == \"__main__\":\n",
        "    main()"
      ]
    },
    {
      "cell_type": "code",
      "execution_count": null,
      "metadata": {
        "id": "n2DgxnWaRDHg"
      },
      "outputs": [],
      "source": []
    }
  ],
  "metadata": {
    "colab": {
      "provenance": [],
      "authorship_tag": "ABX9TyP8SRU+AN5G2Yw+dHJX6W+b",
      "include_colab_link": true
    },
    "kernelspec": {
      "display_name": "Python 3",
      "name": "python3"
    },
    "language_info": {
      "name": "python"
    }
  },
  "nbformat": 4,
  "nbformat_minor": 0
}